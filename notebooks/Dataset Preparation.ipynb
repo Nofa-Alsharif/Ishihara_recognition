{
 "cells": [
  {
   "cell_type": "markdown",
   "id": "40e239a5",
   "metadata": {},
   "source": [
    "# Dataset Preparation and Green-Blind Simulation for CNN Training"
   ]
  },
  {
   "cell_type": "markdown",
   "id": "397ef711",
   "metadata": {},
   "source": [
    "## Simulate Green-Blind Color Vision (Deuteranomaly)"
   ]
  },
  {
   "cell_type": "code",
   "execution_count": 25,
   "id": "aee816b4-de4d-448f-8a50-84d9dedafb86",
   "metadata": {},
   "outputs": [
    {
     "name": "stdout",
     "output_type": "stream",
     "text": [
      "Requirement already satisfied: colorspacious in c:\\users\\nitro\\anaconda3\\lib\\site-packages (1.1.2)\n",
      "Requirement already satisfied: numpy in c:\\users\\nitro\\anaconda3\\lib\\site-packages (from colorspacious) (1.26.4)\n",
      "Note: you may need to restart the kernel to use updated packages.\n"
     ]
    }
   ],
   "source": [
    "pip install colorspacious\n"
   ]
  },
  {
   "cell_type": "code",
   "execution_count": 23,
   "id": "bc925d22-2a22-491d-b6ef-a7134e96aafc",
   "metadata": {},
   "outputs": [
    {
     "name": "stdout",
     "output_type": "stream",
     "text": [
      "✅ Completed green color blindness simulation!\n"
     ]
    }
   ],
   "source": [
    "import os\n",
    "import numpy as np\n",
    "from matplotlib.image import imread, imsave\n",
    "from colorspacious import cspace_convert\n",
    "\n",
    "input_folder = 'raw_data/data'\n",
    "output_folder = 'raw_data/Simulated_GreenBlind50'\n",
    "\n",
    "#Make sure output folder exists\n",
    "os.makedirs(output_folder, exist_ok=True)\n",
    "\n",
    "# Green-blind simulation configuration\n",
    "cvd_space = {\n",
    "    \"name\": \"sRGB1+CVD\",\n",
    "    \"cvd_type\": \"deuteranomaly\", #green\n",
    "    \"severity\": 50\n",
    "}\n",
    "\n",
    "# Process each image\n",
    "for filename in os.listdir(input_folder):\n",
    "    if filename.lower().endswith((\".png\", \".jpg\", \".jpeg\")):\n",
    "        img_path = os.path.join(input_folder, filename)\n",
    "        img = imread(img_path)\n",
    "\n",
    "        if img.max() > 1.0:\n",
    "            img = img / 255.0\n",
    "\n",
    "        simulated_img = cspace_convert(img, cvd_space, \"sRGB1\")\n",
    "        simulated_img = np.clip(simulated_img, 0, 1)\n",
    "\n",
    "        output_path = os.path.join(output_folder, f\"{os.path.splitext(filename)[0]}_greenblind.png\")\n",
    "        imsave(output_path, simulated_img)\n",
    "\n",
    "print(\"Completed green color blindness simulation!\")"
   ]
  },
  {
   "cell_type": "markdown",
   "id": "c8dd12a2",
   "metadata": {},
   "source": [
    "## Organizing Image Dataset into Subfolders per Class"
   ]
  },
  {
   "cell_type": "markdown",
   "id": "646000c5",
   "metadata": {},
   "source": [
    "### normal version data"
   ]
  },
  {
   "cell_type": "code",
   "execution_count": 1,
   "id": "4b217569-f553-4f23-b560-59ae85c62b94",
   "metadata": {},
   "outputs": [],
   "source": [
    "\n",
    "import os\n",
    "import shutil\n",
    "\n",
    "source_folder = 'raw_data/data'\n",
    "\n",
    "for filename in os.listdir(source_folder):\n",
    "    if filename[0].isdigit():\n",
    "        first_digit = filename[0] \n",
    "        target_folder = os.path.join(source_folder, first_digit)\n",
    "\n",
    "        os.makedirs(target_folder, exist_ok=True)\n",
    "\n",
    "        src_path = os.path.join(source_folder, filename)\n",
    "        dst_path = os.path.join(target_folder, filename)\n",
    "\n",
    "        shutil.move(src_path, dst_path)"
   ]
  },
  {
   "cell_type": "markdown",
   "id": "7bd36d3b",
   "metadata": {},
   "source": [
    "### Simulated_GreenBlind data"
   ]
  },
  {
   "cell_type": "code",
   "execution_count": 2,
   "id": "48afb72e",
   "metadata": {},
   "outputs": [],
   "source": [
    "import os\n",
    "import shutil\n",
    "\n",
    "source_folder = 'raw_data/Simulated_GreenBlind50'\n",
    "\n",
    "for filename in os.listdir(source_folder):\n",
    "    if filename[0].isdigit():\n",
    "        first_digit = filename[0] \n",
    "        target_folder = os.path.join(source_folder, first_digit)\n",
    "\n",
    "        os.makedirs(target_folder, exist_ok=True)\n",
    "\n",
    "        src_path = os.path.join(source_folder, filename)\n",
    "        dst_path = os.path.join(target_folder, filename)\n",
    "\n",
    "        shutil.move(src_path, dst_path)"
   ]
  },
  {
   "cell_type": "markdown",
   "id": "6038c9ef",
   "metadata": {},
   "source": [
    "## Merge Simulated and Original Image Data into One Dataset"
   ]
  },
  {
   "cell_type": "code",
   "execution_count": null,
   "id": "3684aaa5",
   "metadata": {},
   "outputs": [],
   "source": [
    "import os\n",
    "import shutil\n",
    "\n",
    "source1 = 'raw_data/data'\n",
    "source2 ='raw_data/Simulated_GreenBlind50'\n",
    "destination = 'raw_data/merged_data'\n",
    "\n",
    "os.makedirs(destination, exist_ok=True)\n",
    "\n",
    "for class_name in [str(i) for i in range(10)]:\n",
    "    class_path1 = os.path.join(source1, class_name)\n",
    "    class_path2 = os.path.join(source2, class_name)\n",
    "    dest_class_path = os.path.join(destination, class_name)\n",
    "\n",
    "    os.makedirs(dest_class_path, exist_ok=True)\n",
    "\n",
    "    for file in os.listdir(class_path1):\n",
    "        shutil.copy(os.path.join(class_path1, file), os.path.join(dest_class_path, file))\n",
    "\n",
    "    for file in os.listdir(class_path2):\n",
    "        new_name = f\"sim_{file}\"\n",
    "        shutil.copy(os.path.join(class_path2, file), os.path.join(dest_class_path, new_name))\n",
    "\n",
    "print(\"✅ Done merging the datasets!\")"
   ]
  },
  {
   "cell_type": "markdown",
   "id": "e2d83cb4",
   "metadata": {},
   "source": [
    "## Image Class Count Summary"
   ]
  },
  {
   "cell_type": "markdown",
   "id": "d86b7021",
   "metadata": {},
   "source": [
    "### normal version data"
   ]
  },
  {
   "cell_type": "code",
   "execution_count": 2,
   "id": "9c76beef",
   "metadata": {
    "scrolled": true
   },
   "outputs": [
    {
     "name": "stdout",
     "output_type": "stream",
     "text": [
      "Class '0': 128 images\n",
      "Class '1': 140 images\n",
      "Class '2': 144 images\n",
      "Class '3': 152 images\n",
      "Class '4': 132 images\n",
      "Class '5': 156 images\n",
      "Class '6': 132 images\n",
      "Class '7': 140 images\n",
      "Class '8': 148 images\n",
      "Class '9': 128 images\n"
     ]
    }
   ],
   "source": [
    "import os\n",
    "\n",
    "data_path ='raw_data/data'\n",
    "\n",
    "for folder in sorted(os.listdir(data_path)):\n",
    "    folder_path = os.path.join(data_path, folder)\n",
    "    if os.path.isdir(folder_path):\n",
    "        num_images = len([f for f in os.listdir(folder_path) if f.lower().endswith(('.png', '.jpg', '.jpeg'))])\n",
    "        print(f\"Class '{folder}': {num_images} images\")\n"
   ]
  },
  {
   "cell_type": "markdown",
   "id": "912403f6",
   "metadata": {},
   "source": [
    "### merged data"
   ]
  },
  {
   "cell_type": "code",
   "execution_count": 9,
   "id": "8fb52bf6",
   "metadata": {},
   "outputs": [
    {
     "name": "stdout",
     "output_type": "stream",
     "text": [
      "Class '0': 256 images\n",
      "Class '1': 280 images\n",
      "Class '2': 288 images\n",
      "Class '3': 304 images\n",
      "Class '4': 264 images\n",
      "Class '5': 312 images\n",
      "Class '6': 264 images\n",
      "Class '7': 280 images\n",
      "Class '8': 296 images\n",
      "Class '9': 256 images\n"
     ]
    }
   ],
   "source": [
    "data_path ='raw_data/merged_data'\n",
    "for folder in sorted(os.listdir(data_path)):\n",
    "    folder_path = os.path.join(data_path, folder)\n",
    "    if os.path.isdir(folder_path):\n",
    "        num_images = len([f for f in os.listdir(folder_path) if f.lower().endswith(('.png', '.jpg', '.jpeg'))])\n",
    "        print(f\"Class '{folder}': {num_images} images\")"
   ]
  },
  {
   "cell_type": "code",
   "execution_count": null,
   "id": "2d788fb0",
   "metadata": {},
   "outputs": [],
   "source": []
  }
 ],
 "metadata": {
  "kernelspec": {
   "display_name": "Python 3 (ipykernel)",
   "language": "python",
   "name": "python3"
  },
  "language_info": {
   "codemirror_mode": {
    "name": "ipython",
    "version": 3
   },
   "file_extension": ".py",
   "mimetype": "text/x-python",
   "name": "python",
   "nbconvert_exporter": "python",
   "pygments_lexer": "ipython3",
   "version": "3.10.6"
  },
  "toc": {
   "base_numbering": 1,
   "nav_menu": {},
   "number_sections": true,
   "sideBar": true,
   "skip_h1_title": false,
   "title_cell": "Table of Contents",
   "title_sidebar": "Contents",
   "toc_cell": false,
   "toc_position": {},
   "toc_section_display": true,
   "toc_window_display": false
  }
 },
 "nbformat": 4,
 "nbformat_minor": 5
}
